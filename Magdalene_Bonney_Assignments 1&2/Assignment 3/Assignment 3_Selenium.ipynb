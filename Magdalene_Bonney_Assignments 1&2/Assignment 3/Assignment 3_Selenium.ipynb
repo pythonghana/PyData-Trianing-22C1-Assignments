{
 "cells": [
  {
   "cell_type": "code",
   "execution_count": 1,
   "id": "4ce5de34",
   "metadata": {},
   "outputs": [],
   "source": [
    "from selenium import webdriver"
   ]
  },
  {
   "cell_type": "code",
   "execution_count": 2,
   "id": "194588a1",
   "metadata": {},
   "outputs": [
    {
     "name": "stdout",
     "output_type": "stream",
     "text": [
      "Collecting selenium\n",
      "  Downloading selenium-4.1.3-py3-none-any.whl (968 kB)\n",
      "Requirement already satisfied: urllib3[secure,socks]~=1.26 in c:\\users\\user\\anaconda3\\lib\\site-packages (from selenium) (1.26.7)\n",
      "Collecting trio~=0.17\n",
      "  Downloading trio-0.20.0-py3-none-any.whl (359 kB)\n",
      "Collecting trio-websocket~=0.9\n",
      "  Downloading trio_websocket-0.9.2-py3-none-any.whl (16 kB)\n",
      "Requirement already satisfied: idna in c:\\users\\user\\anaconda3\\lib\\site-packages (from trio~=0.17->selenium) (3.2)\n",
      "Collecting outcome\n",
      "  Downloading outcome-1.1.0-py2.py3-none-any.whl (9.7 kB)\n",
      "Requirement already satisfied: attrs>=19.2.0 in c:\\users\\user\\anaconda3\\lib\\site-packages (from trio~=0.17->selenium) (21.2.0)\n",
      "Requirement already satisfied: sniffio in c:\\users\\user\\anaconda3\\lib\\site-packages (from trio~=0.17->selenium) (1.2.0)\n",
      "Requirement already satisfied: async-generator>=1.9 in c:\\users\\user\\anaconda3\\lib\\site-packages (from trio~=0.17->selenium) (1.10)\n",
      "Requirement already satisfied: cffi>=1.14 in c:\\users\\user\\anaconda3\\lib\\site-packages (from trio~=0.17->selenium) (1.14.6)\n",
      "Requirement already satisfied: sortedcontainers in c:\\users\\user\\anaconda3\\lib\\site-packages (from trio~=0.17->selenium) (2.4.0)\n",
      "Requirement already satisfied: pycparser in c:\\users\\user\\anaconda3\\lib\\site-packages (from cffi>=1.14->trio~=0.17->selenium) (2.20)\n",
      "Collecting wsproto>=0.14\n",
      "  Downloading wsproto-1.1.0-py3-none-any.whl (24 kB)\n",
      "Requirement already satisfied: pyOpenSSL>=0.14 in c:\\users\\user\\anaconda3\\lib\\site-packages (from urllib3[secure,socks]~=1.26->selenium) (21.0.0)\n",
      "Requirement already satisfied: cryptography>=1.3.4 in c:\\users\\user\\anaconda3\\lib\\site-packages (from urllib3[secure,socks]~=1.26->selenium) (3.4.8)\n",
      "Requirement already satisfied: certifi in c:\\users\\user\\anaconda3\\lib\\site-packages (from urllib3[secure,socks]~=1.26->selenium) (2021.10.8)\n",
      "Requirement already satisfied: PySocks!=1.5.7,<2.0,>=1.5.6 in c:\\users\\user\\anaconda3\\lib\\site-packages (from urllib3[secure,socks]~=1.26->selenium) (1.7.1)\n",
      "Requirement already satisfied: six>=1.5.2 in c:\\users\\user\\anaconda3\\lib\\site-packages (from pyOpenSSL>=0.14->urllib3[secure,socks]~=1.26->selenium) (1.16.0)\n",
      "Collecting h11<1,>=0.9.0\n",
      "  Downloading h11-0.13.0-py3-none-any.whl (58 kB)\n",
      "Installing collected packages: outcome, h11, wsproto, trio, trio-websocket, selenium\n",
      "Successfully installed h11-0.13.0 outcome-1.1.0 selenium-4.1.3 trio-0.20.0 trio-websocket-0.9.2 wsproto-1.1.0\n"
     ]
    }
   ],
   "source": [
    "!pip install selenium"
   ]
  },
  {
   "cell_type": "code",
   "execution_count": 10,
   "id": "b6a1ab62",
   "metadata": {},
   "outputs": [],
   "source": [
    "from selenium import webdriver"
   ]
  },
  {
   "cell_type": "code",
   "execution_count": 11,
   "id": "3e956fba",
   "metadata": {},
   "outputs": [],
   "source": [
    "url = \"https://www.jumia.com.gh/catalog/?q=laptops\""
   ]
  },
  {
   "cell_type": "code",
   "execution_count": 12,
   "id": "ec48d2fd",
   "metadata": {},
   "outputs": [],
   "source": [
    "driver = webdriver.Chrome()"
   ]
  },
  {
   "cell_type": "code",
   "execution_count": 13,
   "id": "9c7228a1",
   "metadata": {},
   "outputs": [],
   "source": [
    "driver.implicitly_wait(10)\n",
    "driver.get(url)"
   ]
  },
  {
   "cell_type": "code",
   "execution_count": 20,
   "id": "a88f3e44",
   "metadata": {},
   "outputs": [
    {
     "name": "stderr",
     "output_type": "stream",
     "text": [
      "C:\\Users\\user\\AppData\\Local\\Temp/ipykernel_5768/2975164895.py:1: DeprecationWarning: find_elements_by_xpath is deprecated. Please use find_elements(by=By.XPATH, value=xpath) instead\n",
      "  laptop_names = [names.text for names in driver.find_elements_by_xpath(\"//h3[@class='name']\")]\n"
     ]
    },
    {
     "name": "stdout",
     "output_type": "stream",
     "text": [
      "['Hp Laptop 15.6” - Intel Celeron Core 2 Duo - 4G - 500GB HDD - Windows 10 - Silver', 'Lenovo IdeaPad 1 11IGL05 11.6\" - 4GB RAM - 128GB SSD - Intel Celeron N4020 Win10 - Platinum Grey', 'Lenovo Thinkpad X201 - 12\" Intel Core i5 - 4G RAM - 500GB - Win 10 Pro. - Black', 'Lenovo V14-IGL -14.0″ - Intel N4020 - 4GB DDR4 RAM - 1TB HDD - Grey', 'Hp 15-dw1081wm Intel Pentium Gold 6405U Laptop - 4GB DDR4 RAM - 500GB HDD - Windows 10 - Scarlet Red', 'Hp Pavilion 15- EG1053CL - Touch screen Intel Core i5-11th Gen.12GB RAM 512GB SSD Win 11 - Silver', '10.1 inch Netbook PC - 1GBRAM - 8GB HDD - Android 5.1 ATM7059 - Black', 'Apple 2020 MacBook Pro - 512GB SSD 8GB RAM -13.3 -Space-Gray', \"Hp 15 Notebook Laptop -15.6'' - Intel® Celeron® 500GB HDD - 4GB RAM - Windows 10 - Black\", 'Lenovo IdeaPad 3 15IGL05 81WQ Intel Celeron N4020 Dual Core - 15.6\" - 4 GB RAM -1 TB HDD - Win 10 Pro - Platinum Grey', 'N1001 Netbook PC - 10.1\" - Dual-Core - 1GB RAM - Android 6.0 - Pink', 'Hp Pavilion 14-DQ1043CL - Intel Core i3-1005G1, 8GB, 256GB SSD, Win10, Backlit Keyboard – Silver', \"Hp Laptop 15-dw1213nia -15.6'' - Intel Celeron N4020 - 500GB HDD - 4GB RAM - Windows 10 - Black\", 'DELL Vostro 3000 Series - 11th Gen Intel Core i3-1115G4 - 1TB HDD -4GB RAM -15.6\" - Windows 10 - Gray', 'Hp Notebook 15 - 15.6\" - Intel Celeron N4000 - 1TB HDD - 4GB RAM - Windows 10 - Black', 'Lenovo IdeaPad 1 11IGL05 11.6\" - 4GB RAM - 128GB SSD - Intel Celeron N4020 Win10 - Platinum Grey', 'LCD Display Global Frequency S 2G 4G LTE 1800MHz Mobile Art Signal Booster Amplifier White', 'Hp 15-da0021ds Intel Pentium Gold 5405U Laptop - TOUCH SCREEN 8GB RAM - 256GB SSD - Win 10 - BLUE', 'Lenovo V15 Intel Core i3 - 10th Generation 15.6\" - 4 GB RAM -1 TB HDD - Win 10 - Iron Gray', 'Lenovo IdeaPad 330 - 15.6\" - Intel Celeron - 1TB HDD - 4GB DDR4 RAM - Windows 10 - Pentium Gray', 'Foldable Laptop/Computer Table - Brown', \"Hp Laptop 14 - cf2187nia 10th Generation Intel Core i3 - 8GB RAM - 1TB HDD - 14.0'' LED Screen - Black\", 'Hp Laptop 17.3 inch - AMD Athlon Silver 3050U - 4GB RAM - 256GB SSD - Windows 10 - Silver', '360o Rotating Bluetooth 7 s Backlit Aluminum Keyboard For iPad 9.7\" 2018/iPad 9.7\" 2017/iPad Air/Air 2/Pro 9.7\"-Blue (blue)', 'Hp Pavilion Gaming -Core i5-10300H - 256SSD- 8GB RAM - 4GB Nvidia- Black', 'Hp 15T-ED000 x360 -15\" - Core i7-1065G7+512 SSD+16GB RAM+4GB NVIDIA MX330 - Windows 10 -Silver', 'Hp Pavilion 15-er0125od x360 - Intel Core i5 - 8GB RAM - 256GB SSD Touchscreen - Silver', 'Lenovo V14-IGL - Intel Celeron N4020- 1TB HDD - 4GB RAM - 14\" - Windows 11 Pro - Iron Gray', 'Hp Pavilion Gaming -Core i5-10300H -1TB DRIVE - 256SSD- 8GB RAM - 4GB Nvidia- Black', 'Apple MacBook Pro - 256GB SSD 8GB RAM -13.3 -Space-Gray', 'Folding Laptop Table Computer Desk For Student / Bedside - pink', 'Lenovo V15 Intel Core i3 - 10th Generation 15.6\" - 12GB RAM -1 TB HDD - Win 10 Pro - Iron Gray', 'Foldable Non-slip Laptop N Stand Portable Thin PC Bracket Ph', 'TDD-10.1 Netbook PC - 10.1\" - Dual-Core - 1GB RAM - Android 6.0 - White', 'Lenovo V14-IGL - Intel Celeron N4020- 1TB HDD - 4GB RAM - 14\" - Windows 10 - Iron Gray', 'Hp ProBook 650 G1 - 15.6 Inches - Intel Core i5, 4GB RAM, 500GB HDD, Win 10 Pro.- Black', 'Hp Notebook - 15-da2174nia - 10th Gen Intel Core i5 10210U - 1TB HDD - 8GB RAM - Windows 10 - Black', 'Folding Laptop Table Computer Desk For Student / Bedside - Beige', 'Apple MacBook Pro M1- 256GB-HDD-8GB-RAM-13.3-Space-Gray', 'Hp ProBook 440 G8 - 14\" - Intel Core i7-1165G7 - 512SSD - 16GB RAM - Windows 10 -Silver', 'Lenovo IdeaPad 330 - 15.6\" - Intel Celeron - 1TB HDD - 4GB DDR4 RAM - Windows 10 - Pentium Gray', 'Fashion 16 Inch Laptop Backpack with USB Waterproof - Black', 'Anti Theft Backpack - Black', 'Jiesipote 18\" Travel Laptop Backpack With USB Charging/Headphone Ports - Red', 'Kids Backpack - Blue', 'Backpack 3 Pcs Anti Theft Laptop/School Bag Backpack - Grey', '3 Pieces Multifunctional Backpack Set - Black', 'Backpack Waterproof Laptop/School With USB Backpack - Grey']\n"
     ]
    }
   ],
   "source": [
    "laptop_names = [names.text for names in driver.find_elements_by_xpath(\"//h3[@class='name']\")]\n",
    "print(laptop_names)\n"
   ]
  },
  {
   "cell_type": "code",
   "execution_count": 21,
   "id": "69c06f08",
   "metadata": {},
   "outputs": [
    {
     "name": "stderr",
     "output_type": "stream",
     "text": [
      "C:\\Users\\user\\AppData\\Local\\Temp/ipykernel_5768/429930981.py:1: DeprecationWarning: find_elements_by_xpath is deprecated. Please use find_elements(by=By.XPATH, value=xpath) instead\n",
      "  laptop_prices = [prices.text for prices in driver.find_elements_by_xpath(\"//div[@class='prc']\")]\n"
     ]
    },
    {
     "name": "stdout",
     "output_type": "stream",
     "text": [
      "['GH₵ 1,622.40', 'GH₵ 1,859.00', 'GH₵ 1,814.40', 'GH₵ 2,589.00', 'GH₵ 2,798.00', 'GH₵ 5,299.00', 'GH₵ 750.00', 'GH₵ 8,900.00', 'GH₵ 2,789.00', 'GH₵ 2,590.00', 'GH₵ 719.00', 'GH₵ 3,490.00', 'GH₵ 2,435.00', 'GH₵ 3,615.00', 'GH₵ 3,000.00', 'GH₵ 2,294.00', 'GH₵ 907.45', 'GH₵ 2,950.00', 'GH₵ 3,100.00', 'GH₵ 2,600.00', 'GH₵ 75.00', 'GH₵ 3,570.00', 'GH₵ 2,999.00', 'GH₵ 499.00', 'GH₵ 6,400.00', 'GH₵ 9,800.00', 'GH₵ 5,000.00', 'GH₵ 2,490.00', 'GH₵ 5,800.00', 'GH₵ 8,775.00', 'GH₵ 75.00', 'GH₵ 3,490.00', 'GH₵ 129.00', 'GH₵ 855.00', 'GH₵ 2,490.00', 'GH₵ 2,900.00', 'GH₵ 3,990.00', 'GH₵ 75.00', 'GH₵ 9,000.00', 'GH₵ 9,200.00', 'GH₵ 2,600.00', 'GH₵ 37.05', 'GH₵ 69.00', 'GH₵ 119.93', 'GH₵ 63.00', 'GH₵ 51.00', 'GH₵ 52.25', 'GH₵ 48.45']\n"
     ]
    }
   ],
   "source": [
    "laptop_prices = [prices.text for prices in driver.find_elements_by_xpath(\"//div[@class='prc']\")]\n",
    "print(laptop_prices)"
   ]
  },
  {
   "cell_type": "code",
   "execution_count": 22,
   "id": "a90a1166",
   "metadata": {},
   "outputs": [
    {
     "name": "stderr",
     "output_type": "stream",
     "text": [
      "C:\\Users\\user\\AppData\\Local\\Temp/ipykernel_5768/1311544985.py:1: DeprecationWarning: find_elements_by_xpath is deprecated. Please use find_elements(by=By.XPATH, value=xpath) instead\n",
      "  laptop_links = [links.get_attribute(\"href\") for links in driver.find_elements_by_xpath('//div[@class=\"-paxs row _no-g _4cl-3cm-shs\"]//a[@href]')]\n"
     ]
    },
    {
     "name": "stdout",
     "output_type": "stream",
     "text": [
      "['https://www.jumia.com.gh/hp-laptop-15.6-intel-celeron-core-2-duo-4g-500gb-hdd-windows-10-silver-33021134.html', 'https://www.jumia.com.gh/ideapad-1-11igl05-11.6-4gb-ram-128gb-ssd-intel-celeron-n4020-win10-grey-lenovo-mpg450600.html', 'https://www.jumia.com.gh/thinkpad-x201-12-intel-core-i5-4g-ram-320gb-win-7-pro.-black-lenovo-mpg453269.html', 'https://www.jumia.com.gh/v14-igl-14.0-display-intel-n4020-processor-4gb-ddr4-ram-1tb-grey-lenovo-mpg441883.html', 'https://www.jumia.com.gh/15-dw1081wm-intel-pentium-gold-6405u-laptop-4gb-ddr4-ram-500gb-hdd-windows-10-scarlet-red-hp-mpg441944.html', 'https://www.jumia.com.gh/hp-pavilion-15-eg1053cl-touch-screen-intel-core-i5-11th-gen.12gb-ram-512gb-ssd-win-11-silver-40426953.html', 'https://www.jumia.com.gh/generic-10.1-inch-netbook-pc-1gbram-8gb-hdd-android-5.1-atm7059-black-2125446.html', 'https://www.jumia.com.gh/apple-2020-macbook-pro-512gb-ssd-8gb-ram-13.3-space-gray-37475684.html', 'https://www.jumia.com.gh/15-notebook-laptop-15.6-intelr-celeronr-500gb-hdd-4gb-ram-windows-10-black-hp-mpg439272.html', 'https://www.jumia.com.gh/lenovo-ideapad-3-15igl05-81wq-intel-celeron-n4020-dual-core-15.6-4-gb-ram-1-tb-hdd-win-10-pro-platinum-grey-43070848.html', 'https://www.jumia.com.gh/generic-n1001-netbook-pc-10.1-dual-core-1gb-ram-android-6.0-pink-2121822.html', 'https://www.jumia.com.gh/pavilion-14-dq1043cl-intel-core-i3-1005g1-8gb-256gb-ssd-win10-backlit-keyboard-silver-hp-mpg442142.html', 'https://www.jumia.com.gh/laptop-15-dw1213nia-15.6-intel-celeron-n4020-500gb-hdd-4gb-ram-windows-10-black-hp-mpg453494.html', 'https://www.jumia.com.gh/dell-vostro-3000-series-11th-gen-intel-core-i3-1115g4-1tb-hdd-4gb-ram-15.6-windows-10-gray-31343477.html', 'https://www.jumia.com.gh/notebook-15-15.6-intel-celeron-n4000-1tb-hdd-4gb-ram-windows-10-black-hp-mpg440328.html', 'https://www.jumia.com.gh/lenovo-ideapad-1-11igl05-11.6-4gb-ram-128gb-ssd-intel-celeron-n4020-win10-platinum-grey-36179478.html', 'https://www.jumia.com.gh/generic-lcd-display-global-frequency-s-2g-4g-lte-1800mhz-mobile-art-signal-booster-amplifier-white-43902106.html', 'https://www.jumia.com.gh/hp-15-da0021ds-intel-pentium-gold-5405u-laptop-touch-screen-8gb-ram-256gb-ssd-win-10-blue-40427049.html', 'https://www.jumia.com.gh/lenovo-v15-intel-core-i3-10th-generation-15.6-4-gb-ram-1-tb-hdd-win-10-iron-gray-43945127.html', 'https://www.jumia.com.gh/lenovo-ideapad-330-15.6-intel-celeron-1tb-hdd-4gb-ddr4-ram-windows-10-pentium-gray-134271.html', 'https://www.jumia.com.gh/generic-foldable-laptopcomputer-table-brown-44793587.html', 'https://www.jumia.com.gh/hp-laptop-14-cf2187nia-10th-generation-intel-core-i3-8gb-ram-1tb-hdd-14.0-led-screen-black-31562448.html', 'https://www.jumia.com.gh/hp-laptop-17.3-inch-amd-athlon-silver-3050u-4gb-ram-256gb-ssd-windows-10-silver-43233465.html', 'https://www.jumia.com.gh/generic-360o-rotating-bluetooth-7-s-backlit-aluminum-keyboard-for-ipad-9.7-2018ipad-9.7-2017ipad-airair-2pro-9.7-blue-blue-29830302.html', 'https://www.jumia.com.gh/pavilion-gaming-core-i5-10300h-256ssd-8gb-ram-4gb-nvidia-black-hp-mpg455211.html', 'https://www.jumia.com.gh/hp-15t-ed000-x360-15-core-i7-1065g7512-ssd16gb-ram4gb-nvidia-mx330-windows-10-silver-30616503.html', 'https://www.jumia.com.gh/hp-pavilion-15-er0125od-x360-intel-core-i5-8gb-ram-256gb-ssd-touchscreen-silver-42403162.html', 'https://www.jumia.com.gh/v14-igl-intel-celeron-n4020-1tb-hdd-4gb-ram-14-windows-11-pro-iron-gray-lenovo-mpg454943.html', 'https://www.jumia.com.gh/hp-pavilion-gaming-core-i5-10300h-1tb-drive-256ssd-8gb-ram-4gb-nvidia-black-41170409.html', 'https://www.jumia.com.gh/macbook-pro-256gb-ssd-8gb-ram-13.3-space-gray-apple-mpg455364.html', 'https://www.jumia.com.gh/generic-folding-laptop-table-computer-desk-for-student-bedside-pink-44386184.html', 'https://www.jumia.com.gh/lenovo-v15-intel-core-i3-10th-generation-15.6-12gb-ram-1-tb-hdd-win-10-pro-iron-gray-31562039.html', 'https://www.jumia.com.gh/generic-foldable-non-slip-laptop-n-stand-portable-thin-pc-bracket-ph-37248977.html', 'https://www.jumia.com.gh/generic-tdd-10.1-netbook-pc-10.1-dual-core-1gb-ram-android-6.0-white-2125415.html', 'https://www.jumia.com.gh/lenovo-v14-igl-intel-celeron-n4020-1tb-hdd-4gb-ram-14-windows-10-iron-gray-33396178.html', 'https://www.jumia.com.gh/hp-probook-650-g1-15.6-inches-intel-core-i5-4gb-ram-500gb-hdd-win-10-pro.-black-29880588.html', 'https://www.jumia.com.gh/notebook-15-da2174nia-10th-gen-intel-core-i5-10210u-1tb-hdd-8gb-ram-windows-10-black-hp-mpg437608.html', 'https://www.jumia.com.gh/generic-folding-laptop-table-computer-desk-for-student-bedside-beige-44629057.html', 'https://www.jumia.com.gh/macbook-pro-m1-256gb-hdd-8gb-ram-13.3-space-gray-apple-mpg453612.html', 'https://www.jumia.com.gh/hp-probook-440-g8-14-intel-core-i7-1165g7-512ssd-16gb-ram-windows-10-silver-31036063.html', 'https://www.jumia.com.gh/lenovo-ideapad-330-15.6-intel-celeron-1tb-hdd-4gb-ddr4-ram-windows-10-pentium-gray-134271.html', 'https://www.jumia.com.gh/fashion-16-inch-laptop-backpack-with-usb-waterproof-black-22098526.html', 'https://www.jumia.com.gh/anti-theft-backpack-black-generic-mpg440180.html', 'https://www.jumia.com.gh/jiesipote-18-travel-laptop-backpack-with-usb-chargingheadphone-ports-red-31573935.html', 'https://www.jumia.com.gh/generic-kids-backpack-blue-30749584.html', 'https://www.jumia.com.gh/3-pcs-anti-theft-laptopschool-bag-backpack-grey-backpack-mpg454001.html', 'https://www.jumia.com.gh/3-pieces-multifunctional-backpack-set-black-generic-mpg454908.html', 'https://www.jumia.com.gh/backpack-waterproof-laptopschool-with-usb-backpack-grey-4761135.html']\n",
      "48\n"
     ]
    }
   ],
   "source": [
    "laptop_links = [links.get_attribute(\"href\") for links in driver.find_elements_by_xpath('//div[@class=\"-paxs row _no-g _4cl-3cm-shs\"]//a[@href]')]\n",
    "print(laptop_links)\n",
    "print(len(laptop_links))"
   ]
  },
  {
   "cell_type": "code",
   "execution_count": 23,
   "id": "92fb6c28",
   "metadata": {},
   "outputs": [
    {
     "name": "stdout",
     "output_type": "stream",
     "text": [
      "[('Hp Laptop 15.6” - Intel Celeron Core 2 Duo - 4G - 500GB HDD - Windows 10 - Silver', 'GH₵ 1,622.40', 'https://www.jumia.com.gh/hp-laptop-15.6-intel-celeron-core-2-duo-4g-500gb-hdd-windows-10-silver-33021134.html'), ('Lenovo IdeaPad 1 11IGL05 11.6\" - 4GB RAM - 128GB SSD - Intel Celeron N4020 Win10 - Platinum Grey', 'GH₵ 1,859.00', 'https://www.jumia.com.gh/ideapad-1-11igl05-11.6-4gb-ram-128gb-ssd-intel-celeron-n4020-win10-grey-lenovo-mpg450600.html'), ('Lenovo Thinkpad X201 - 12\" Intel Core i5 - 4G RAM - 500GB - Win 10 Pro. - Black', 'GH₵ 1,814.40', 'https://www.jumia.com.gh/thinkpad-x201-12-intel-core-i5-4g-ram-320gb-win-7-pro.-black-lenovo-mpg453269.html'), ('Lenovo V14-IGL -14.0″ - Intel N4020 - 4GB DDR4 RAM - 1TB HDD - Grey', 'GH₵ 2,589.00', 'https://www.jumia.com.gh/v14-igl-14.0-display-intel-n4020-processor-4gb-ddr4-ram-1tb-grey-lenovo-mpg441883.html'), ('Hp 15-dw1081wm Intel Pentium Gold 6405U Laptop - 4GB DDR4 RAM - 500GB HDD - Windows 10 - Scarlet Red', 'GH₵ 2,798.00', 'https://www.jumia.com.gh/15-dw1081wm-intel-pentium-gold-6405u-laptop-4gb-ddr4-ram-500gb-hdd-windows-10-scarlet-red-hp-mpg441944.html'), ('Hp Pavilion 15- EG1053CL - Touch screen Intel Core i5-11th Gen.12GB RAM 512GB SSD Win 11 - Silver', 'GH₵ 5,299.00', 'https://www.jumia.com.gh/hp-pavilion-15-eg1053cl-touch-screen-intel-core-i5-11th-gen.12gb-ram-512gb-ssd-win-11-silver-40426953.html'), ('10.1 inch Netbook PC - 1GBRAM - 8GB HDD - Android 5.1 ATM7059 - Black', 'GH₵ 750.00', 'https://www.jumia.com.gh/generic-10.1-inch-netbook-pc-1gbram-8gb-hdd-android-5.1-atm7059-black-2125446.html'), ('Apple 2020 MacBook Pro - 512GB SSD 8GB RAM -13.3 -Space-Gray', 'GH₵ 8,900.00', 'https://www.jumia.com.gh/apple-2020-macbook-pro-512gb-ssd-8gb-ram-13.3-space-gray-37475684.html'), (\"Hp 15 Notebook Laptop -15.6'' - Intel® Celeron® 500GB HDD - 4GB RAM - Windows 10 - Black\", 'GH₵ 2,789.00', 'https://www.jumia.com.gh/15-notebook-laptop-15.6-intelr-celeronr-500gb-hdd-4gb-ram-windows-10-black-hp-mpg439272.html'), ('Lenovo IdeaPad 3 15IGL05 81WQ Intel Celeron N4020 Dual Core - 15.6\" - 4 GB RAM -1 TB HDD - Win 10 Pro - Platinum Grey', 'GH₵ 2,590.00', 'https://www.jumia.com.gh/lenovo-ideapad-3-15igl05-81wq-intel-celeron-n4020-dual-core-15.6-4-gb-ram-1-tb-hdd-win-10-pro-platinum-grey-43070848.html'), ('N1001 Netbook PC - 10.1\" - Dual-Core - 1GB RAM - Android 6.0 - Pink', 'GH₵ 719.00', 'https://www.jumia.com.gh/generic-n1001-netbook-pc-10.1-dual-core-1gb-ram-android-6.0-pink-2121822.html'), ('Hp Pavilion 14-DQ1043CL - Intel Core i3-1005G1, 8GB, 256GB SSD, Win10, Backlit Keyboard – Silver', 'GH₵ 3,490.00', 'https://www.jumia.com.gh/pavilion-14-dq1043cl-intel-core-i3-1005g1-8gb-256gb-ssd-win10-backlit-keyboard-silver-hp-mpg442142.html'), (\"Hp Laptop 15-dw1213nia -15.6'' - Intel Celeron N4020 - 500GB HDD - 4GB RAM - Windows 10 - Black\", 'GH₵ 2,435.00', 'https://www.jumia.com.gh/laptop-15-dw1213nia-15.6-intel-celeron-n4020-500gb-hdd-4gb-ram-windows-10-black-hp-mpg453494.html'), ('DELL Vostro 3000 Series - 11th Gen Intel Core i3-1115G4 - 1TB HDD -4GB RAM -15.6\" - Windows 10 - Gray', 'GH₵ 3,615.00', 'https://www.jumia.com.gh/dell-vostro-3000-series-11th-gen-intel-core-i3-1115g4-1tb-hdd-4gb-ram-15.6-windows-10-gray-31343477.html'), ('Hp Notebook 15 - 15.6\" - Intel Celeron N4000 - 1TB HDD - 4GB RAM - Windows 10 - Black', 'GH₵ 3,000.00', 'https://www.jumia.com.gh/notebook-15-15.6-intel-celeron-n4000-1tb-hdd-4gb-ram-windows-10-black-hp-mpg440328.html'), ('Lenovo IdeaPad 1 11IGL05 11.6\" - 4GB RAM - 128GB SSD - Intel Celeron N4020 Win10 - Platinum Grey', 'GH₵ 2,294.00', 'https://www.jumia.com.gh/lenovo-ideapad-1-11igl05-11.6-4gb-ram-128gb-ssd-intel-celeron-n4020-win10-platinum-grey-36179478.html'), ('LCD Display Global Frequency S 2G 4G LTE 1800MHz Mobile Art Signal Booster Amplifier White', 'GH₵ 907.45', 'https://www.jumia.com.gh/generic-lcd-display-global-frequency-s-2g-4g-lte-1800mhz-mobile-art-signal-booster-amplifier-white-43902106.html'), ('Hp 15-da0021ds Intel Pentium Gold 5405U Laptop - TOUCH SCREEN 8GB RAM - 256GB SSD - Win 10 - BLUE', 'GH₵ 2,950.00', 'https://www.jumia.com.gh/hp-15-da0021ds-intel-pentium-gold-5405u-laptop-touch-screen-8gb-ram-256gb-ssd-win-10-blue-40427049.html'), ('Lenovo V15 Intel Core i3 - 10th Generation 15.6\" - 4 GB RAM -1 TB HDD - Win 10 - Iron Gray', 'GH₵ 3,100.00', 'https://www.jumia.com.gh/lenovo-v15-intel-core-i3-10th-generation-15.6-4-gb-ram-1-tb-hdd-win-10-iron-gray-43945127.html'), ('Lenovo IdeaPad 330 - 15.6\" - Intel Celeron - 1TB HDD - 4GB DDR4 RAM - Windows 10 - Pentium Gray', 'GH₵ 2,600.00', 'https://www.jumia.com.gh/lenovo-ideapad-330-15.6-intel-celeron-1tb-hdd-4gb-ddr4-ram-windows-10-pentium-gray-134271.html'), ('Foldable Laptop/Computer Table - Brown', 'GH₵ 75.00', 'https://www.jumia.com.gh/generic-foldable-laptopcomputer-table-brown-44793587.html'), (\"Hp Laptop 14 - cf2187nia 10th Generation Intel Core i3 - 8GB RAM - 1TB HDD - 14.0'' LED Screen - Black\", 'GH₵ 3,570.00', 'https://www.jumia.com.gh/hp-laptop-14-cf2187nia-10th-generation-intel-core-i3-8gb-ram-1tb-hdd-14.0-led-screen-black-31562448.html'), ('Hp Laptop 17.3 inch - AMD Athlon Silver 3050U - 4GB RAM - 256GB SSD - Windows 10 - Silver', 'GH₵ 2,999.00', 'https://www.jumia.com.gh/hp-laptop-17.3-inch-amd-athlon-silver-3050u-4gb-ram-256gb-ssd-windows-10-silver-43233465.html'), ('360o Rotating Bluetooth 7 s Backlit Aluminum Keyboard For iPad 9.7\" 2018/iPad 9.7\" 2017/iPad Air/Air 2/Pro 9.7\"-Blue (blue)', 'GH₵ 499.00', 'https://www.jumia.com.gh/generic-360o-rotating-bluetooth-7-s-backlit-aluminum-keyboard-for-ipad-9.7-2018ipad-9.7-2017ipad-airair-2pro-9.7-blue-blue-29830302.html'), ('Hp Pavilion Gaming -Core i5-10300H - 256SSD- 8GB RAM - 4GB Nvidia- Black', 'GH₵ 6,400.00', 'https://www.jumia.com.gh/pavilion-gaming-core-i5-10300h-256ssd-8gb-ram-4gb-nvidia-black-hp-mpg455211.html'), ('Hp 15T-ED000 x360 -15\" - Core i7-1065G7+512 SSD+16GB RAM+4GB NVIDIA MX330 - Windows 10 -Silver', 'GH₵ 9,800.00', 'https://www.jumia.com.gh/hp-15t-ed000-x360-15-core-i7-1065g7512-ssd16gb-ram4gb-nvidia-mx330-windows-10-silver-30616503.html'), ('Hp Pavilion 15-er0125od x360 - Intel Core i5 - 8GB RAM - 256GB SSD Touchscreen - Silver', 'GH₵ 5,000.00', 'https://www.jumia.com.gh/hp-pavilion-15-er0125od-x360-intel-core-i5-8gb-ram-256gb-ssd-touchscreen-silver-42403162.html'), ('Lenovo V14-IGL - Intel Celeron N4020- 1TB HDD - 4GB RAM - 14\" - Windows 11 Pro - Iron Gray', 'GH₵ 2,490.00', 'https://www.jumia.com.gh/v14-igl-intel-celeron-n4020-1tb-hdd-4gb-ram-14-windows-11-pro-iron-gray-lenovo-mpg454943.html'), ('Hp Pavilion Gaming -Core i5-10300H -1TB DRIVE - 256SSD- 8GB RAM - 4GB Nvidia- Black', 'GH₵ 5,800.00', 'https://www.jumia.com.gh/hp-pavilion-gaming-core-i5-10300h-1tb-drive-256ssd-8gb-ram-4gb-nvidia-black-41170409.html'), ('Apple MacBook Pro - 256GB SSD 8GB RAM -13.3 -Space-Gray', 'GH₵ 8,775.00', 'https://www.jumia.com.gh/macbook-pro-256gb-ssd-8gb-ram-13.3-space-gray-apple-mpg455364.html'), ('Folding Laptop Table Computer Desk For Student / Bedside - pink', 'GH₵ 75.00', 'https://www.jumia.com.gh/generic-folding-laptop-table-computer-desk-for-student-bedside-pink-44386184.html'), ('Lenovo V15 Intel Core i3 - 10th Generation 15.6\" - 12GB RAM -1 TB HDD - Win 10 Pro - Iron Gray', 'GH₵ 3,490.00', 'https://www.jumia.com.gh/lenovo-v15-intel-core-i3-10th-generation-15.6-12gb-ram-1-tb-hdd-win-10-pro-iron-gray-31562039.html'), ('Foldable Non-slip Laptop N Stand Portable Thin PC Bracket Ph', 'GH₵ 129.00', 'https://www.jumia.com.gh/generic-foldable-non-slip-laptop-n-stand-portable-thin-pc-bracket-ph-37248977.html'), ('TDD-10.1 Netbook PC - 10.1\" - Dual-Core - 1GB RAM - Android 6.0 - White', 'GH₵ 855.00', 'https://www.jumia.com.gh/generic-tdd-10.1-netbook-pc-10.1-dual-core-1gb-ram-android-6.0-white-2125415.html'), ('Lenovo V14-IGL - Intel Celeron N4020- 1TB HDD - 4GB RAM - 14\" - Windows 10 - Iron Gray', 'GH₵ 2,490.00', 'https://www.jumia.com.gh/lenovo-v14-igl-intel-celeron-n4020-1tb-hdd-4gb-ram-14-windows-10-iron-gray-33396178.html'), ('Hp ProBook 650 G1 - 15.6 Inches - Intel Core i5, 4GB RAM, 500GB HDD, Win 10 Pro.- Black', 'GH₵ 2,900.00', 'https://www.jumia.com.gh/hp-probook-650-g1-15.6-inches-intel-core-i5-4gb-ram-500gb-hdd-win-10-pro.-black-29880588.html'), ('Hp Notebook - 15-da2174nia - 10th Gen Intel Core i5 10210U - 1TB HDD - 8GB RAM - Windows 10 - Black', 'GH₵ 3,990.00', 'https://www.jumia.com.gh/notebook-15-da2174nia-10th-gen-intel-core-i5-10210u-1tb-hdd-8gb-ram-windows-10-black-hp-mpg437608.html'), ('Folding Laptop Table Computer Desk For Student / Bedside - Beige', 'GH₵ 75.00', 'https://www.jumia.com.gh/generic-folding-laptop-table-computer-desk-for-student-bedside-beige-44629057.html'), ('Apple MacBook Pro M1- 256GB-HDD-8GB-RAM-13.3-Space-Gray', 'GH₵ 9,000.00', 'https://www.jumia.com.gh/macbook-pro-m1-256gb-hdd-8gb-ram-13.3-space-gray-apple-mpg453612.html'), ('Hp ProBook 440 G8 - 14\" - Intel Core i7-1165G7 - 512SSD - 16GB RAM - Windows 10 -Silver', 'GH₵ 9,200.00', 'https://www.jumia.com.gh/hp-probook-440-g8-14-intel-core-i7-1165g7-512ssd-16gb-ram-windows-10-silver-31036063.html'), ('Lenovo IdeaPad 330 - 15.6\" - Intel Celeron - 1TB HDD - 4GB DDR4 RAM - Windows 10 - Pentium Gray', 'GH₵ 2,600.00', 'https://www.jumia.com.gh/lenovo-ideapad-330-15.6-intel-celeron-1tb-hdd-4gb-ddr4-ram-windows-10-pentium-gray-134271.html'), ('Fashion 16 Inch Laptop Backpack with USB Waterproof - Black', 'GH₵ 37.05', 'https://www.jumia.com.gh/fashion-16-inch-laptop-backpack-with-usb-waterproof-black-22098526.html'), ('Anti Theft Backpack - Black', 'GH₵ 69.00', 'https://www.jumia.com.gh/anti-theft-backpack-black-generic-mpg440180.html'), ('Jiesipote 18\" Travel Laptop Backpack With USB Charging/Headphone Ports - Red', 'GH₵ 119.93', 'https://www.jumia.com.gh/jiesipote-18-travel-laptop-backpack-with-usb-chargingheadphone-ports-red-31573935.html'), ('Kids Backpack - Blue', 'GH₵ 63.00', 'https://www.jumia.com.gh/generic-kids-backpack-blue-30749584.html'), ('Backpack 3 Pcs Anti Theft Laptop/School Bag Backpack - Grey', 'GH₵ 51.00', 'https://www.jumia.com.gh/3-pcs-anti-theft-laptopschool-bag-backpack-grey-backpack-mpg454001.html'), ('3 Pieces Multifunctional Backpack Set - Black', 'GH₵ 52.25', 'https://www.jumia.com.gh/3-pieces-multifunctional-backpack-set-black-generic-mpg454908.html'), ('Backpack Waterproof Laptop/School With USB Backpack - Grey', 'GH₵ 48.45', 'https://www.jumia.com.gh/backpack-waterproof-laptopschool-with-usb-backpack-grey-4761135.html')]\n",
      "48\n"
     ]
    }
   ],
   "source": [
    "names_and_prices = [(laptop_names[item], laptop_prices[item], laptop_links[item]) for item in range(0, len(laptop_names))]\n",
    "print(names_and_prices)\n",
    "print(len(names_and_prices))"
   ]
  },
  {
   "cell_type": "code",
   "execution_count": 24,
   "id": "2e0994ff",
   "metadata": {},
   "outputs": [],
   "source": [
    "import pandas as pd"
   ]
  },
  {
   "cell_type": "code",
   "execution_count": 25,
   "id": "95ba22b9",
   "metadata": {},
   "outputs": [
    {
     "data": {
      "text/html": [
       "<div>\n",
       "<style scoped>\n",
       "    .dataframe tbody tr th:only-of-type {\n",
       "        vertical-align: middle;\n",
       "    }\n",
       "\n",
       "    .dataframe tbody tr th {\n",
       "        vertical-align: top;\n",
       "    }\n",
       "\n",
       "    .dataframe thead th {\n",
       "        text-align: right;\n",
       "    }\n",
       "</style>\n",
       "<table border=\"1\" class=\"dataframe\">\n",
       "  <thead>\n",
       "    <tr style=\"text-align: right;\">\n",
       "      <th></th>\n",
       "      <th>Laptops</th>\n",
       "      <th>Prices</th>\n",
       "      <th>URLs</th>\n",
       "    </tr>\n",
       "  </thead>\n",
       "  <tbody>\n",
       "    <tr>\n",
       "      <th>0</th>\n",
       "      <td>Hp Laptop 15.6” - Intel Celeron Core 2 Duo - 4...</td>\n",
       "      <td>GH₵ 1,622.40</td>\n",
       "      <td>https://www.jumia.com.gh/hp-laptop-15.6-intel-...</td>\n",
       "    </tr>\n",
       "    <tr>\n",
       "      <th>1</th>\n",
       "      <td>Lenovo IdeaPad 1 11IGL05 11.6\" - 4GB RAM - 128...</td>\n",
       "      <td>GH₵ 1,859.00</td>\n",
       "      <td>https://www.jumia.com.gh/ideapad-1-11igl05-11....</td>\n",
       "    </tr>\n",
       "    <tr>\n",
       "      <th>2</th>\n",
       "      <td>Lenovo Thinkpad X201 - 12\" Intel Core i5 - 4G ...</td>\n",
       "      <td>GH₵ 1,814.40</td>\n",
       "      <td>https://www.jumia.com.gh/thinkpad-x201-12-inte...</td>\n",
       "    </tr>\n",
       "    <tr>\n",
       "      <th>3</th>\n",
       "      <td>Lenovo V14-IGL -14.0″ - Intel N4020 - 4GB DDR4...</td>\n",
       "      <td>GH₵ 2,589.00</td>\n",
       "      <td>https://www.jumia.com.gh/v14-igl-14.0-display-...</td>\n",
       "    </tr>\n",
       "    <tr>\n",
       "      <th>4</th>\n",
       "      <td>Hp 15-dw1081wm Intel Pentium Gold 6405U Laptop...</td>\n",
       "      <td>GH₵ 2,798.00</td>\n",
       "      <td>https://www.jumia.com.gh/15-dw1081wm-intel-pen...</td>\n",
       "    </tr>\n",
       "  </tbody>\n",
       "</table>\n",
       "</div>"
      ],
      "text/plain": [
       "                                             Laptops        Prices  \\\n",
       "0  Hp Laptop 15.6” - Intel Celeron Core 2 Duo - 4...  GH₵ 1,622.40   \n",
       "1  Lenovo IdeaPad 1 11IGL05 11.6\" - 4GB RAM - 128...  GH₵ 1,859.00   \n",
       "2  Lenovo Thinkpad X201 - 12\" Intel Core i5 - 4G ...  GH₵ 1,814.40   \n",
       "3  Lenovo V14-IGL -14.0″ - Intel N4020 - 4GB DDR4...  GH₵ 2,589.00   \n",
       "4  Hp 15-dw1081wm Intel Pentium Gold 6405U Laptop...  GH₵ 2,798.00   \n",
       "\n",
       "                                                URLs  \n",
       "0  https://www.jumia.com.gh/hp-laptop-15.6-intel-...  \n",
       "1  https://www.jumia.com.gh/ideapad-1-11igl05-11....  \n",
       "2  https://www.jumia.com.gh/thinkpad-x201-12-inte...  \n",
       "3  https://www.jumia.com.gh/v14-igl-14.0-display-...  \n",
       "4  https://www.jumia.com.gh/15-dw1081wm-intel-pen...  "
      ]
     },
     "execution_count": 25,
     "metadata": {},
     "output_type": "execute_result"
    }
   ],
   "source": [
    "columns = ['Laptops', 'Prices', 'URLs']\n",
    "df = pd.DataFrame(data=names_and_prices, columns=columns)\n",
    "df.head()"
   ]
  },
  {
   "cell_type": "code",
   "execution_count": 26,
   "id": "5ab0a6ac",
   "metadata": {},
   "outputs": [],
   "source": [
    "df.to_csv('jumia-laptops-and-prices.csv', index=False)"
   ]
  },
  {
   "cell_type": "code",
   "execution_count": null,
   "id": "32d827ef",
   "metadata": {},
   "outputs": [],
   "source": []
  }
 ],
 "metadata": {
  "kernelspec": {
   "display_name": "Python 3 (ipykernel)",
   "language": "python",
   "name": "python3"
  },
  "language_info": {
   "codemirror_mode": {
    "name": "ipython",
    "version": 3
   },
   "file_extension": ".py",
   "mimetype": "text/x-python",
   "name": "python",
   "nbconvert_exporter": "python",
   "pygments_lexer": "ipython3",
   "version": "3.9.7"
  }
 },
 "nbformat": 4,
 "nbformat_minor": 5
}
