{
 "cells": [
  {
   "cell_type": "code",
   "execution_count": 1,
   "id": "bbefb80f",
   "metadata": {},
   "outputs": [],
   "source": [
    "import pandas as pd\n",
    "import numpy as np"
   ]
  },
  {
   "cell_type": "code",
   "execution_count": 2,
   "id": "e12a15ef",
   "metadata": {},
   "outputs": [
    {
     "data": {
      "text/html": [
       "<div>\n",
       "<style scoped>\n",
       "    .dataframe tbody tr th:only-of-type {\n",
       "        vertical-align: middle;\n",
       "    }\n",
       "\n",
       "    .dataframe tbody tr th {\n",
       "        vertical-align: top;\n",
       "    }\n",
       "\n",
       "    .dataframe thead th {\n",
       "        text-align: right;\n",
       "    }\n",
       "</style>\n",
       "<table border=\"1\" class=\"dataframe\">\n",
       "  <thead>\n",
       "    <tr style=\"text-align: right;\">\n",
       "      <th></th>\n",
       "      <th>Student</th>\n",
       "      <th>Teacher</th>\n",
       "      <th>Gender</th>\n",
       "      <th>Ethnic</th>\n",
       "      <th>Freeredu</th>\n",
       "      <th>Score</th>\n",
       "      <th>wesson</th>\n",
       "    </tr>\n",
       "  </thead>\n",
       "  <tbody>\n",
       "    <tr>\n",
       "      <th>0</th>\n",
       "      <td>1.0</td>\n",
       "      <td>Ruger</td>\n",
       "      <td>Female</td>\n",
       "      <td>Asian</td>\n",
       "      <td>Free lunch</td>\n",
       "      <td>76.0</td>\n",
       "      <td>Ruger_Smith</td>\n",
       "    </tr>\n",
       "    <tr>\n",
       "      <th>1</th>\n",
       "      <td>2.0</td>\n",
       "      <td>Ruger</td>\n",
       "      <td>Female</td>\n",
       "      <td>Hispanic</td>\n",
       "      <td>Paid lunch</td>\n",
       "      <td>56.0</td>\n",
       "      <td>Ruger_Smith</td>\n",
       "    </tr>\n",
       "    <tr>\n",
       "      <th>2</th>\n",
       "      <td>3.0</td>\n",
       "      <td>Ruger</td>\n",
       "      <td>Female</td>\n",
       "      <td>African-American</td>\n",
       "      <td>Free lunch</td>\n",
       "      <td>34.0</td>\n",
       "      <td>Ruger_Smith</td>\n",
       "    </tr>\n",
       "    <tr>\n",
       "      <th>3</th>\n",
       "      <td>4.0</td>\n",
       "      <td>Ruger</td>\n",
       "      <td>Female</td>\n",
       "      <td>Asian</td>\n",
       "      <td>Paid lunch</td>\n",
       "      <td>59.0</td>\n",
       "      <td>Ruger_Smith</td>\n",
       "    </tr>\n",
       "    <tr>\n",
       "      <th>4</th>\n",
       "      <td>5.0</td>\n",
       "      <td>Ruger</td>\n",
       "      <td>Male</td>\n",
       "      <td>Hispanic</td>\n",
       "      <td>Free lunch</td>\n",
       "      <td>73.0</td>\n",
       "      <td>Ruger_Smith</td>\n",
       "    </tr>\n",
       "    <tr>\n",
       "      <th>...</th>\n",
       "      <td>...</td>\n",
       "      <td>...</td>\n",
       "      <td>...</td>\n",
       "      <td>...</td>\n",
       "      <td>...</td>\n",
       "      <td>...</td>\n",
       "      <td>...</td>\n",
       "    </tr>\n",
       "    <tr>\n",
       "      <th>212</th>\n",
       "      <td>213.0</td>\n",
       "      <td>Wesson</td>\n",
       "      <td>Male</td>\n",
       "      <td>Hispanic</td>\n",
       "      <td>Free lunch</td>\n",
       "      <td>94.0</td>\n",
       "      <td>Wesson</td>\n",
       "    </tr>\n",
       "    <tr>\n",
       "      <th>213</th>\n",
       "      <td>214.0</td>\n",
       "      <td>Wesson</td>\n",
       "      <td>Male</td>\n",
       "      <td>Hispanic</td>\n",
       "      <td>Paid lunch</td>\n",
       "      <td>91.0</td>\n",
       "      <td>Wesson</td>\n",
       "    </tr>\n",
       "    <tr>\n",
       "      <th>214</th>\n",
       "      <td>215.0</td>\n",
       "      <td>Wesson</td>\n",
       "      <td>Female</td>\n",
       "      <td>African-American</td>\n",
       "      <td>Paid lunch</td>\n",
       "      <td>53.0</td>\n",
       "      <td>Wesson</td>\n",
       "    </tr>\n",
       "    <tr>\n",
       "      <th>215</th>\n",
       "      <td>216.0</td>\n",
       "      <td>Wesson</td>\n",
       "      <td>Male</td>\n",
       "      <td>Hispanic</td>\n",
       "      <td>Paid lunch</td>\n",
       "      <td>57.0</td>\n",
       "      <td>Wesson</td>\n",
       "    </tr>\n",
       "    <tr>\n",
       "      <th>216</th>\n",
       "      <td>NaN</td>\n",
       "      <td>NaN</td>\n",
       "      <td>NaN</td>\n",
       "      <td>NaN</td>\n",
       "      <td>NaN</td>\n",
       "      <td>NaN</td>\n",
       "      <td>Ruger_Smith</td>\n",
       "    </tr>\n",
       "  </tbody>\n",
       "</table>\n",
       "<p>217 rows × 7 columns</p>\n",
       "</div>"
      ],
      "text/plain": [
       "     Student Teacher  Gender            Ethnic    Freeredu  Score       wesson\n",
       "0        1.0   Ruger  Female             Asian  Free lunch   76.0  Ruger_Smith\n",
       "1        2.0   Ruger  Female          Hispanic  Paid lunch   56.0  Ruger_Smith\n",
       "2        3.0   Ruger  Female  African-American  Free lunch   34.0  Ruger_Smith\n",
       "3        4.0   Ruger  Female             Asian  Paid lunch   59.0  Ruger_Smith\n",
       "4        5.0   Ruger    Male          Hispanic  Free lunch   73.0  Ruger_Smith\n",
       "..       ...     ...     ...               ...         ...    ...          ...\n",
       "212    213.0  Wesson    Male          Hispanic  Free lunch   94.0       Wesson\n",
       "213    214.0  Wesson    Male          Hispanic  Paid lunch   91.0       Wesson\n",
       "214    215.0  Wesson  Female  African-American  Paid lunch   53.0       Wesson\n",
       "215    216.0  Wesson    Male          Hispanic  Paid lunch   57.0       Wesson\n",
       "216      NaN     NaN     NaN               NaN         NaN    NaN  Ruger_Smith\n",
       "\n",
       "[217 rows x 7 columns]"
      ]
     },
     "execution_count": 2,
     "metadata": {},
     "output_type": "execute_result"
    }
   ],
   "source": [
    "data = pd.read_spss(\"1ResearchProjectData.sav\")\n",
    "data"
   ]
  },
  {
   "cell_type": "code",
   "execution_count": 3,
   "id": "859e69e5",
   "metadata": {},
   "outputs": [
    {
     "name": "stdout",
     "output_type": "stream",
     "text": [
      "<class 'pandas.core.frame.DataFrame'>\n",
      "RangeIndex: 217 entries, 0 to 216\n",
      "Data columns (total 7 columns):\n",
      " #   Column    Non-Null Count  Dtype   \n",
      "---  ------    --------------  -----   \n",
      " 0   Student   216 non-null    float64 \n",
      " 1   Teacher   216 non-null    category\n",
      " 2   Gender    216 non-null    category\n",
      " 3   Ethnic    216 non-null    category\n",
      " 4   Freeredu  216 non-null    category\n",
      " 5   Score     216 non-null    float64 \n",
      " 6   wesson    217 non-null    category\n",
      "dtypes: category(5), float64(2)\n",
      "memory usage: 5.3 KB\n"
     ]
    }
   ],
   "source": [
    "data.info()\n"
   ]
  },
  {
   "cell_type": "code",
   "execution_count": 5,
   "id": "16e29fa7",
   "metadata": {},
   "outputs": [
    {
     "data": {
      "text/plain": [
       "Student     1\n",
       "Teacher     1\n",
       "Gender      1\n",
       "Ethnic      1\n",
       "Freeredu    1\n",
       "Score       1\n",
       "wesson      0\n",
       "dtype: int64"
      ]
     },
     "execution_count": 5,
     "metadata": {},
     "output_type": "execute_result"
    }
   ],
   "source": [
    "# Checking the number of missing values in each column\n",
    "data.isna().sum() "
   ]
  },
  {
   "cell_type": "code",
   "execution_count": 35,
   "id": "1195830d",
   "metadata": {},
   "outputs": [
    {
     "data": {
      "text/plain": [
       "(216, 7)"
      ]
     },
     "execution_count": 35,
     "metadata": {},
     "output_type": "execute_result"
    }
   ],
   "source": [
    "# Drop all rows with missing values in the original dataFrame.\n",
    "data.shape\n",
    "data.dropna(inplace=True) "
   ]
  },
  {
   "cell_type": "code",
   "execution_count": 36,
   "id": "a4c792fe",
   "metadata": {},
   "outputs": [
    {
     "data": {
      "text/html": [
       "<div>\n",
       "<style scoped>\n",
       "    .dataframe tbody tr th:only-of-type {\n",
       "        vertical-align: middle;\n",
       "    }\n",
       "\n",
       "    .dataframe tbody tr th {\n",
       "        vertical-align: top;\n",
       "    }\n",
       "\n",
       "    .dataframe thead th {\n",
       "        text-align: right;\n",
       "    }\n",
       "</style>\n",
       "<table border=\"1\" class=\"dataframe\">\n",
       "  <thead>\n",
       "    <tr style=\"text-align: right;\">\n",
       "      <th></th>\n",
       "      <th>Student</th>\n",
       "      <th>Teacher</th>\n",
       "      <th>Gender</th>\n",
       "      <th>Ethnic</th>\n",
       "      <th>Freeredu</th>\n",
       "      <th>Score</th>\n",
       "      <th>wesson</th>\n",
       "    </tr>\n",
       "  </thead>\n",
       "  <tbody>\n",
       "    <tr>\n",
       "      <th>0</th>\n",
       "      <td>1.0</td>\n",
       "      <td>Ruger</td>\n",
       "      <td>Female</td>\n",
       "      <td>Asian</td>\n",
       "      <td>Free lunch</td>\n",
       "      <td>76.0</td>\n",
       "      <td>Ruger_Smith</td>\n",
       "    </tr>\n",
       "    <tr>\n",
       "      <th>1</th>\n",
       "      <td>2.0</td>\n",
       "      <td>Ruger</td>\n",
       "      <td>Female</td>\n",
       "      <td>Hispanic</td>\n",
       "      <td>Paid lunch</td>\n",
       "      <td>56.0</td>\n",
       "      <td>Ruger_Smith</td>\n",
       "    </tr>\n",
       "    <tr>\n",
       "      <th>2</th>\n",
       "      <td>3.0</td>\n",
       "      <td>Ruger</td>\n",
       "      <td>Female</td>\n",
       "      <td>African-American</td>\n",
       "      <td>Free lunch</td>\n",
       "      <td>34.0</td>\n",
       "      <td>Ruger_Smith</td>\n",
       "    </tr>\n",
       "    <tr>\n",
       "      <th>3</th>\n",
       "      <td>4.0</td>\n",
       "      <td>Ruger</td>\n",
       "      <td>Female</td>\n",
       "      <td>Asian</td>\n",
       "      <td>Paid lunch</td>\n",
       "      <td>59.0</td>\n",
       "      <td>Ruger_Smith</td>\n",
       "    </tr>\n",
       "    <tr>\n",
       "      <th>4</th>\n",
       "      <td>5.0</td>\n",
       "      <td>Ruger</td>\n",
       "      <td>Male</td>\n",
       "      <td>Hispanic</td>\n",
       "      <td>Free lunch</td>\n",
       "      <td>73.0</td>\n",
       "      <td>Ruger_Smith</td>\n",
       "    </tr>\n",
       "  </tbody>\n",
       "</table>\n",
       "</div>"
      ],
      "text/plain": [
       "   Student Teacher  Gender            Ethnic    Freeredu  Score       wesson\n",
       "0      1.0   Ruger  Female             Asian  Free lunch   76.0  Ruger_Smith\n",
       "1      2.0   Ruger  Female          Hispanic  Paid lunch   56.0  Ruger_Smith\n",
       "2      3.0   Ruger  Female  African-American  Free lunch   34.0  Ruger_Smith\n",
       "3      4.0   Ruger  Female             Asian  Paid lunch   59.0  Ruger_Smith\n",
       "4      5.0   Ruger    Male          Hispanic  Free lunch   73.0  Ruger_Smith"
      ]
     },
     "execution_count": 36,
     "metadata": {},
     "output_type": "execute_result"
    }
   ],
   "source": [
    "data.head()"
   ]
  },
  {
   "cell_type": "code",
   "execution_count": 6,
   "id": "a2cbbd8f",
   "metadata": {},
   "outputs": [
    {
     "data": {
      "text/plain": [
       "0      False\n",
       "1      False\n",
       "2      False\n",
       "3      False\n",
       "4      False\n",
       "       ...  \n",
       "212    False\n",
       "213    False\n",
       "214    False\n",
       "215    False\n",
       "216    False\n",
       "Length: 217, dtype: bool"
      ]
     },
     "execution_count": 6,
     "metadata": {},
     "output_type": "execute_result"
    }
   ],
   "source": [
    "# Checking for duplicated values (rows).\n",
    "data.duplicated() "
   ]
  },
  {
   "cell_type": "code",
   "execution_count": 7,
   "id": "f4df2e6b",
   "metadata": {},
   "outputs": [],
   "source": [
    "data['Teaching Method'] = data['wesson'].apply(lambda x: 'Standard' if 'Ruger_Smith' in x else 'Traditional')"
   ]
  },
  {
   "cell_type": "code",
   "execution_count": 8,
   "id": "74ca034b",
   "metadata": {},
   "outputs": [
    {
     "data": {
      "text/html": [
       "<div>\n",
       "<style scoped>\n",
       "    .dataframe tbody tr th:only-of-type {\n",
       "        vertical-align: middle;\n",
       "    }\n",
       "\n",
       "    .dataframe tbody tr th {\n",
       "        vertical-align: top;\n",
       "    }\n",
       "\n",
       "    .dataframe thead th {\n",
       "        text-align: right;\n",
       "    }\n",
       "</style>\n",
       "<table border=\"1\" class=\"dataframe\">\n",
       "  <thead>\n",
       "    <tr style=\"text-align: right;\">\n",
       "      <th></th>\n",
       "      <th>Student</th>\n",
       "      <th>Teacher</th>\n",
       "      <th>Gender</th>\n",
       "      <th>Ethnic</th>\n",
       "      <th>Freeredu</th>\n",
       "      <th>Score</th>\n",
       "      <th>wesson</th>\n",
       "      <th>Teaching Method</th>\n",
       "    </tr>\n",
       "  </thead>\n",
       "  <tbody>\n",
       "    <tr>\n",
       "      <th>0</th>\n",
       "      <td>1.0</td>\n",
       "      <td>Ruger</td>\n",
       "      <td>Female</td>\n",
       "      <td>Asian</td>\n",
       "      <td>Free lunch</td>\n",
       "      <td>76.0</td>\n",
       "      <td>Ruger_Smith</td>\n",
       "      <td>Standard</td>\n",
       "    </tr>\n",
       "    <tr>\n",
       "      <th>1</th>\n",
       "      <td>2.0</td>\n",
       "      <td>Ruger</td>\n",
       "      <td>Female</td>\n",
       "      <td>Hispanic</td>\n",
       "      <td>Paid lunch</td>\n",
       "      <td>56.0</td>\n",
       "      <td>Ruger_Smith</td>\n",
       "      <td>Standard</td>\n",
       "    </tr>\n",
       "    <tr>\n",
       "      <th>2</th>\n",
       "      <td>3.0</td>\n",
       "      <td>Ruger</td>\n",
       "      <td>Female</td>\n",
       "      <td>African-American</td>\n",
       "      <td>Free lunch</td>\n",
       "      <td>34.0</td>\n",
       "      <td>Ruger_Smith</td>\n",
       "      <td>Standard</td>\n",
       "    </tr>\n",
       "    <tr>\n",
       "      <th>3</th>\n",
       "      <td>4.0</td>\n",
       "      <td>Ruger</td>\n",
       "      <td>Female</td>\n",
       "      <td>Asian</td>\n",
       "      <td>Paid lunch</td>\n",
       "      <td>59.0</td>\n",
       "      <td>Ruger_Smith</td>\n",
       "      <td>Standard</td>\n",
       "    </tr>\n",
       "    <tr>\n",
       "      <th>4</th>\n",
       "      <td>5.0</td>\n",
       "      <td>Ruger</td>\n",
       "      <td>Male</td>\n",
       "      <td>Hispanic</td>\n",
       "      <td>Free lunch</td>\n",
       "      <td>73.0</td>\n",
       "      <td>Ruger_Smith</td>\n",
       "      <td>Standard</td>\n",
       "    </tr>\n",
       "    <tr>\n",
       "      <th>...</th>\n",
       "      <td>...</td>\n",
       "      <td>...</td>\n",
       "      <td>...</td>\n",
       "      <td>...</td>\n",
       "      <td>...</td>\n",
       "      <td>...</td>\n",
       "      <td>...</td>\n",
       "      <td>...</td>\n",
       "    </tr>\n",
       "    <tr>\n",
       "      <th>212</th>\n",
       "      <td>213.0</td>\n",
       "      <td>Wesson</td>\n",
       "      <td>Male</td>\n",
       "      <td>Hispanic</td>\n",
       "      <td>Free lunch</td>\n",
       "      <td>94.0</td>\n",
       "      <td>Wesson</td>\n",
       "      <td>Traditional</td>\n",
       "    </tr>\n",
       "    <tr>\n",
       "      <th>213</th>\n",
       "      <td>214.0</td>\n",
       "      <td>Wesson</td>\n",
       "      <td>Male</td>\n",
       "      <td>Hispanic</td>\n",
       "      <td>Paid lunch</td>\n",
       "      <td>91.0</td>\n",
       "      <td>Wesson</td>\n",
       "      <td>Traditional</td>\n",
       "    </tr>\n",
       "    <tr>\n",
       "      <th>214</th>\n",
       "      <td>215.0</td>\n",
       "      <td>Wesson</td>\n",
       "      <td>Female</td>\n",
       "      <td>African-American</td>\n",
       "      <td>Paid lunch</td>\n",
       "      <td>53.0</td>\n",
       "      <td>Wesson</td>\n",
       "      <td>Traditional</td>\n",
       "    </tr>\n",
       "    <tr>\n",
       "      <th>215</th>\n",
       "      <td>216.0</td>\n",
       "      <td>Wesson</td>\n",
       "      <td>Male</td>\n",
       "      <td>Hispanic</td>\n",
       "      <td>Paid lunch</td>\n",
       "      <td>57.0</td>\n",
       "      <td>Wesson</td>\n",
       "      <td>Traditional</td>\n",
       "    </tr>\n",
       "    <tr>\n",
       "      <th>216</th>\n",
       "      <td>NaN</td>\n",
       "      <td>NaN</td>\n",
       "      <td>NaN</td>\n",
       "      <td>NaN</td>\n",
       "      <td>NaN</td>\n",
       "      <td>NaN</td>\n",
       "      <td>Ruger_Smith</td>\n",
       "      <td>Standard</td>\n",
       "    </tr>\n",
       "  </tbody>\n",
       "</table>\n",
       "<p>217 rows × 8 columns</p>\n",
       "</div>"
      ],
      "text/plain": [
       "     Student Teacher  Gender            Ethnic    Freeredu  Score  \\\n",
       "0        1.0   Ruger  Female             Asian  Free lunch   76.0   \n",
       "1        2.0   Ruger  Female          Hispanic  Paid lunch   56.0   \n",
       "2        3.0   Ruger  Female  African-American  Free lunch   34.0   \n",
       "3        4.0   Ruger  Female             Asian  Paid lunch   59.0   \n",
       "4        5.0   Ruger    Male          Hispanic  Free lunch   73.0   \n",
       "..       ...     ...     ...               ...         ...    ...   \n",
       "212    213.0  Wesson    Male          Hispanic  Free lunch   94.0   \n",
       "213    214.0  Wesson    Male          Hispanic  Paid lunch   91.0   \n",
       "214    215.0  Wesson  Female  African-American  Paid lunch   53.0   \n",
       "215    216.0  Wesson    Male          Hispanic  Paid lunch   57.0   \n",
       "216      NaN     NaN     NaN               NaN         NaN    NaN   \n",
       "\n",
       "          wesson Teaching Method  \n",
       "0    Ruger_Smith        Standard  \n",
       "1    Ruger_Smith        Standard  \n",
       "2    Ruger_Smith        Standard  \n",
       "3    Ruger_Smith        Standard  \n",
       "4    Ruger_Smith        Standard  \n",
       "..           ...             ...  \n",
       "212       Wesson     Traditional  \n",
       "213       Wesson     Traditional  \n",
       "214       Wesson     Traditional  \n",
       "215       Wesson     Traditional  \n",
       "216  Ruger_Smith        Standard  \n",
       "\n",
       "[217 rows x 8 columns]"
      ]
     },
     "execution_count": 8,
     "metadata": {},
     "output_type": "execute_result"
    }
   ],
   "source": [
    "data"
   ]
  },
  {
   "cell_type": "code",
   "execution_count": 39,
   "id": "b6ac7e55",
   "metadata": {},
   "outputs": [
    {
     "data": {
      "text/plain": [
       "(216, 8)"
      ]
     },
     "execution_count": 39,
     "metadata": {},
     "output_type": "execute_result"
    }
   ],
   "source": [
    "data.shape"
   ]
  },
  {
   "cell_type": "markdown",
   "id": "9a036d88",
   "metadata": {},
   "source": [
    "## TOTAL and MEAN SCORES"
   ]
  },
  {
   "cell_type": "code",
   "execution_count": 10,
   "id": "3dd5b692",
   "metadata": {},
   "outputs": [
    {
     "data": {
      "text/plain": [
       "14099.0"
      ]
     },
     "execution_count": 10,
     "metadata": {},
     "output_type": "execute_result"
    }
   ],
   "source": [
    "# Checking for the total score of the dataset.\n",
    "total_score = data['Score'].sum()\n",
    "total_score"
   ]
  },
  {
   "cell_type": "code",
   "execution_count": 12,
   "id": "83ac2ae3",
   "metadata": {},
   "outputs": [
    {
     "data": {
      "text/plain": [
       "65.27"
      ]
     },
     "execution_count": 12,
     "metadata": {},
     "output_type": "execute_result"
    }
   ],
   "source": [
    "# Checking for the mean score of the dataset.\n",
    "mean_score = data['Score'].mean()\n",
    "round(mean_score, 2)"
   ]
  },
  {
   "cell_type": "markdown",
   "id": "ebb4fbc7",
   "metadata": {},
   "source": [
    "#### Total and Mean (Average) Score of Students under the Traditional Teaching Method."
   ]
  },
  {
   "cell_type": "code",
   "execution_count": 14,
   "id": "01347107",
   "metadata": {},
   "outputs": [],
   "source": [
    "traditional_method_score = data[data['Teaching Method'] == 'Traditional']['Score']\n"
   ]
  },
  {
   "cell_type": "code",
   "execution_count": 15,
   "id": "6a020c29",
   "metadata": {},
   "outputs": [
    {
     "data": {
      "text/plain": [
       "5372.0"
      ]
     },
     "execution_count": 15,
     "metadata": {},
     "output_type": "execute_result"
    }
   ],
   "source": [
    "traditional_method_total_score = traditional_method_score.sum()\n",
    "traditional_method_total_score"
   ]
  },
  {
   "cell_type": "code",
   "execution_count": 16,
   "id": "8e191a81",
   "metadata": {},
   "outputs": [
    {
     "data": {
      "text/plain": [
       "70.68"
      ]
     },
     "execution_count": 16,
     "metadata": {},
     "output_type": "execute_result"
    }
   ],
   "source": [
    "traditional_method_mean_score = traditional_method_score.mean()\n",
    "round(traditional_method_mean_score, 2)"
   ]
  },
  {
   "cell_type": "markdown",
   "id": "ba81fa31",
   "metadata": {},
   "source": [
    "#### Total and Mean (Average) Score of Students under the Standard Teaching Method."
   ]
  },
  {
   "cell_type": "code",
   "execution_count": 17,
   "id": "e9c92926",
   "metadata": {},
   "outputs": [],
   "source": [
    "standard_method_score = data[data['Teaching Method'] == 'Standard']['Score']"
   ]
  },
  {
   "cell_type": "code",
   "execution_count": 18,
   "id": "1ee4e92e",
   "metadata": {},
   "outputs": [
    {
     "data": {
      "text/plain": [
       "8727.0"
      ]
     },
     "execution_count": 18,
     "metadata": {},
     "output_type": "execute_result"
    }
   ],
   "source": [
    "standard_method_total_score = standard_method_score.sum()\n",
    "standard_method_total_score"
   ]
  },
  {
   "cell_type": "code",
   "execution_count": 19,
   "id": "f37e5acf",
   "metadata": {},
   "outputs": [
    {
     "data": {
      "text/plain": [
       "62.34"
      ]
     },
     "execution_count": 19,
     "metadata": {},
     "output_type": "execute_result"
    }
   ],
   "source": [
    "standard_method_mean_score = standard_method_score.mean()\n",
    "round(standard_method_mean_score, 2)"
   ]
  },
  {
   "cell_type": "markdown",
   "id": "62852e73",
   "metadata": {},
   "source": [
    "### Summary\n",
    "In conclusion, the Traditional method yielded the greatest result among students.\n",
    "\n",
    "It is therefore important that all teachers adopt the Traditional method of teaching maths."
   ]
  },
  {
   "cell_type": "code",
   "execution_count": null,
   "id": "81e360a3",
   "metadata": {},
   "outputs": [],
   "source": []
  }
 ],
 "metadata": {
  "kernelspec": {
   "display_name": "Python 3 (ipykernel)",
   "language": "python",
   "name": "python3"
  },
  "language_info": {
   "codemirror_mode": {
    "name": "ipython",
    "version": 3
   },
   "file_extension": ".py",
   "mimetype": "text/x-python",
   "name": "python",
   "nbconvert_exporter": "python",
   "pygments_lexer": "ipython3",
   "version": "3.9.7"
  }
 },
 "nbformat": 4,
 "nbformat_minor": 5
}
